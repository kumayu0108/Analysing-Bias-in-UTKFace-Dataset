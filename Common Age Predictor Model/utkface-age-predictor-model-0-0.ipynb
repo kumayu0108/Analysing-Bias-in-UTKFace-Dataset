{
 "cells": [
  {
   "cell_type": "code",
   "execution_count": 1,
   "id": "favorite-public",
   "metadata": {
    "_cell_guid": "b1076dfc-b9ad-4769-8c92-a6c4dae69d19",
    "_uuid": "8f2839f25d086af736a60e9eeb907d3b93b6e0e5",
    "execution": {
     "iopub.execute_input": "2021-05-15T17:06:21.760430Z",
     "iopub.status.busy": "2021-05-15T17:06:21.759617Z",
     "iopub.status.idle": "2021-05-15T17:06:27.145576Z",
     "shell.execute_reply": "2021-05-15T17:06:27.144573Z"
    },
    "papermill": {
     "duration": 5.402779,
     "end_time": "2021-05-15T17:06:27.145743",
     "exception": false,
     "start_time": "2021-05-15T17:06:21.742964",
     "status": "completed"
    },
    "tags": []
   },
   "outputs": [],
   "source": [
    "import numpy as np\n",
    "import pandas as pd\n",
    "from datetime import datetime, timedelta\n",
    "import os\n",
    "from tqdm import tqdm\n",
    "\n",
    "import tensorflow as tf\n",
    "\n",
    "import keras\n",
    "from keras.preprocessing import image\n",
    "from tensorflow.keras.preprocessing.image import ImageDataGenerator\n",
    "from keras.callbacks import ModelCheckpoint,EarlyStopping\n",
    "from keras.layers import Dense, Activation, Dropout, Flatten, Input, Convolution2D, ZeroPadding2D, MaxPooling2D, Activation\n",
    "from keras.layers import Conv2D, AveragePooling2D\n",
    "from keras.models import Model, Sequential\n",
    "\n",
    "from sklearn.model_selection import train_test_split\n",
    "\n",
    "from keras import metrics\n",
    "\n",
    "from keras.models import model_from_json\n",
    "import matplotlib.pyplot as plt"
   ]
  },
  {
   "cell_type": "code",
   "execution_count": 2,
   "id": "equivalent-ukraine",
   "metadata": {
    "execution": {
     "iopub.execute_input": "2021-05-15T17:06:27.183033Z",
     "iopub.status.busy": "2021-05-15T17:06:27.182488Z",
     "iopub.status.idle": "2021-05-15T17:06:27.293563Z",
     "shell.execute_reply": "2021-05-15T17:06:27.292997Z"
    },
    "papermill": {
     "duration": 0.136383,
     "end_time": "2021-05-15T17:06:27.293695",
     "exception": false,
     "start_time": "2021-05-15T17:06:27.157312",
     "status": "completed"
    },
    "tags": []
   },
   "outputs": [
    {
     "data": {
      "text/html": [
       "<div>\n",
       "<style scoped>\n",
       "    .dataframe tbody tr th:only-of-type {\n",
       "        vertical-align: middle;\n",
       "    }\n",
       "\n",
       "    .dataframe tbody tr th {\n",
       "        vertical-align: top;\n",
       "    }\n",
       "\n",
       "    .dataframe thead th {\n",
       "        text-align: right;\n",
       "    }\n",
       "</style>\n",
       "<table border=\"1\" class=\"dataframe\">\n",
       "  <thead>\n",
       "    <tr style=\"text-align: right;\">\n",
       "      <th></th>\n",
       "      <th>Age</th>\n",
       "      <th>Gender</th>\n",
       "      <th>Race</th>\n",
       "      <th>Name</th>\n",
       "    </tr>\n",
       "  </thead>\n",
       "  <tbody>\n",
       "    <tr>\n",
       "      <th>0</th>\n",
       "      <td>26</td>\n",
       "      <td>0</td>\n",
       "      <td>2</td>\n",
       "      <td>../input/utkface-new/UTKFace/26_0_2_2017010402...</td>\n",
       "    </tr>\n",
       "    <tr>\n",
       "      <th>1</th>\n",
       "      <td>22</td>\n",
       "      <td>1</td>\n",
       "      <td>1</td>\n",
       "      <td>../input/utkface-new/UTKFace/22_1_1_2017011223...</td>\n",
       "    </tr>\n",
       "    <tr>\n",
       "      <th>2</th>\n",
       "      <td>21</td>\n",
       "      <td>1</td>\n",
       "      <td>3</td>\n",
       "      <td>../input/utkface-new/UTKFace/21_1_3_2017010500...</td>\n",
       "    </tr>\n",
       "    <tr>\n",
       "      <th>3</th>\n",
       "      <td>28</td>\n",
       "      <td>0</td>\n",
       "      <td>0</td>\n",
       "      <td>../input/utkface-new/UTKFace/28_0_0_2017011718...</td>\n",
       "    </tr>\n",
       "    <tr>\n",
       "      <th>4</th>\n",
       "      <td>17</td>\n",
       "      <td>1</td>\n",
       "      <td>4</td>\n",
       "      <td>../input/utkface-new/UTKFace/17_1_4_2017010322...</td>\n",
       "    </tr>\n",
       "  </tbody>\n",
       "</table>\n",
       "</div>"
      ],
      "text/plain": [
       "   Age  Gender  Race                                               Name\n",
       "0   26       0     2  ../input/utkface-new/UTKFace/26_0_2_2017010402...\n",
       "1   22       1     1  ../input/utkface-new/UTKFace/22_1_1_2017011223...\n",
       "2   21       1     3  ../input/utkface-new/UTKFace/21_1_3_2017010500...\n",
       "3   28       0     0  ../input/utkface-new/UTKFace/28_0_0_2017011718...\n",
       "4   17       1     4  ../input/utkface-new/UTKFace/17_1_4_2017010322..."
      ]
     },
     "execution_count": 2,
     "metadata": {},
     "output_type": "execute_result"
    }
   ],
   "source": [
    "df = pd.read_csv('../input/utk-face-extracted-info/extracted_info.csv')\n",
    "df.dropna(inplace=True)\n",
    "df = df[df['Age'] <= 90]\n",
    "df = df[df['Age'] >= 0]\n",
    "df = df.reset_index()\n",
    "df = df.drop(columns = {'DateTime', 'Unnamed: 0', 'index'})\n",
    "df['Name'] = df['Name'].apply(lambda x: '../input/utkface-new/UTKFace/' + str(x))\n",
    "\n",
    "num_classes = len(df['Age'].unique())\n",
    "df.head()"
   ]
  },
  {
   "cell_type": "code",
   "execution_count": 3,
   "id": "finite-traveler",
   "metadata": {
    "execution": {
     "iopub.execute_input": "2021-05-15T17:06:27.320190Z",
     "iopub.status.busy": "2021-05-15T17:06:27.319595Z",
     "iopub.status.idle": "2021-05-15T17:06:27.664015Z",
     "shell.execute_reply": "2021-05-15T17:06:27.664432Z"
    },
    "papermill": {
     "duration": 0.359426,
     "end_time": "2021-05-15T17:06:27.664585",
     "exception": false,
     "start_time": "2021-05-15T17:06:27.305159",
     "status": "completed"
    },
    "tags": []
   },
   "outputs": [
    {
     "name": "stderr",
     "output_type": "stream",
     "text": [
      "/opt/conda/lib/python3.7/site-packages/pandas/plotting/_matplotlib/tools.py:331: MatplotlibDeprecationWarning: \n",
      "The is_first_col function was deprecated in Matplotlib 3.4 and will be removed two minor releases later. Use ax.get_subplotspec().is_first_col() instead.\n",
      "  if ax.is_first_col():\n"
     ]
    },
    {
     "data": {
      "text/plain": [
       "array([[<AxesSubplot:title={'center':'Age'}>,\n",
       "        <AxesSubplot:title={'center':'Gender'}>],\n",
       "       [<AxesSubplot:title={'center':'Race'}>, <AxesSubplot:>]],\n",
       "      dtype=object)"
      ]
     },
     "execution_count": 3,
     "metadata": {},
     "output_type": "execute_result"
    },
    {
     "data": {
      "image/png": "[encoded data removed]",
      "text/plain": [
       "<Figure size 432x288 with 4 Axes>"
      ]
     },
     "metadata": {
      "needs_background": "light"
     },
     "output_type": "display_data"
    }
   ],
   "source": [
    "df.hist()"
   ]
  },
  {
   "cell_type": "code",
   "execution_count": 4,
   "id": "pointed-partition",
   "metadata": {
    "execution": {
     "iopub.execute_input": "2021-05-15T17:06:27.695787Z",
     "iopub.status.busy": "2021-05-15T17:06:27.694658Z",
     "iopub.status.idle": "2021-05-15T17:06:27.697467Z",
     "shell.execute_reply": "2021-05-15T17:06:27.697052Z"
    },
    "papermill": {
     "duration": 0.020406,
     "end_time": "2021-05-15T17:06:27.697584",
     "exception": false,
     "start_time": "2021-05-15T17:06:27.677178",
     "status": "completed"
    },
    "tags": []
   },
   "outputs": [],
   "source": [
    "'''\n",
    "len(df[df['Age']>93]['Age']) ------- just 46 people\n",
    "classes = 101 #(0, 100])\n",
    "print(\"number of output classes: \",classes)\n",
    "'''\n",
    "\n",
    "df['Age'] = df['Age'] - 1"
   ]
  },
  {
   "cell_type": "code",
   "execution_count": 5,
   "id": "productive-acrylic",
   "metadata": {
    "execution": {
     "iopub.execute_input": "2021-05-15T17:06:27.728884Z",
     "iopub.status.busy": "2021-05-15T17:06:27.728220Z",
     "iopub.status.idle": "2021-05-15T17:06:27.739158Z",
     "shell.execute_reply": "2021-05-15T17:06:27.739584Z"
    },
    "papermill": {
     "duration": 0.029727,
     "end_time": "2021-05-15T17:06:27.739711",
     "exception": false,
     "start_time": "2021-05-15T17:06:27.709984",
     "status": "completed"
    },
    "tags": []
   },
   "outputs": [
    {
     "data": {
      "text/html": [
       "<div>\n",
       "<style scoped>\n",
       "    .dataframe tbody tr th:only-of-type {\n",
       "        vertical-align: middle;\n",
       "    }\n",
       "\n",
       "    .dataframe tbody tr th {\n",
       "        vertical-align: top;\n",
       "    }\n",
       "\n",
       "    .dataframe thead th {\n",
       "        text-align: right;\n",
       "    }\n",
       "</style>\n",
       "<table border=\"1\" class=\"dataframe\">\n",
       "  <thead>\n",
       "    <tr style=\"text-align: right;\">\n",
       "      <th></th>\n",
       "      <th>Name</th>\n",
       "      <th>Age</th>\n",
       "    </tr>\n",
       "  </thead>\n",
       "  <tbody>\n",
       "    <tr>\n",
       "      <th>2962</th>\n",
       "      <td>../input/utkface-new/UTKFace/15_1_2_2017011617...</td>\n",
       "      <td>14</td>\n",
       "    </tr>\n",
       "    <tr>\n",
       "      <th>15308</th>\n",
       "      <td>../input/utkface-new/UTKFace/1_0_2_20161219141...</td>\n",
       "      <td>0</td>\n",
       "    </tr>\n",
       "    <tr>\n",
       "      <th>5767</th>\n",
       "      <td>../input/utkface-new/UTKFace/40_0_2_2017011619...</td>\n",
       "      <td>39</td>\n",
       "    </tr>\n",
       "  </tbody>\n",
       "</table>\n",
       "</div>"
      ],
      "text/plain": [
       "                                                    Name  Age\n",
       "2962   ../input/utkface-new/UTKFace/15_1_2_2017011617...   14\n",
       "15308  ../input/utkface-new/UTKFace/1_0_2_20161219141...    0\n",
       "5767   ../input/utkface-new/UTKFace/40_0_2_2017011619...   39"
      ]
     },
     "execution_count": 5,
     "metadata": {},
     "output_type": "execute_result"
    }
   ],
   "source": [
    "df_data = df.Name\n",
    "y_data = df.Age\n",
    "y2_data = df.Gender\n",
    "X_train, X_test, y_train, y_test = train_test_split(df_data, y_data, test_size=0.20, random_state=40)\n",
    "d = {'Name':X_train,'Age':y_train}\n",
    "df_train = pd.concat(d,axis=1)\n",
    "df_train.head(3)"
   ]
  },
  {
   "cell_type": "code",
   "execution_count": 6,
   "id": "incorporate-wayne",
   "metadata": {
    "execution": {
     "iopub.execute_input": "2021-05-15T17:06:27.771991Z",
     "iopub.status.busy": "2021-05-15T17:06:27.771272Z",
     "iopub.status.idle": "2021-05-15T17:06:27.782150Z",
     "shell.execute_reply": "2021-05-15T17:06:27.781727Z"
    },
    "papermill": {
     "duration": 0.029565,
     "end_time": "2021-05-15T17:06:27.782253",
     "exception": false,
     "start_time": "2021-05-15T17:06:27.752688",
     "status": "completed"
    },
    "tags": []
   },
   "outputs": [
    {
     "data": {
      "text/html": [
       "<div>\n",
       "<style scoped>\n",
       "    .dataframe tbody tr th:only-of-type {\n",
       "        vertical-align: middle;\n",
       "    }\n",
       "\n",
       "    .dataframe tbody tr th {\n",
       "        vertical-align: top;\n",
       "    }\n",
       "\n",
       "    .dataframe thead th {\n",
       "        text-align: right;\n",
       "    }\n",
       "</style>\n",
       "<table border=\"1\" class=\"dataframe\">\n",
       "  <thead>\n",
       "    <tr style=\"text-align: right;\">\n",
       "      <th></th>\n",
       "      <th>Name</th>\n",
       "      <th>Age</th>\n",
       "    </tr>\n",
       "  </thead>\n",
       "  <tbody>\n",
       "    <tr>\n",
       "      <th>17222</th>\n",
       "      <td>../input/utkface-new/UTKFace/1_1_0_20161219204...</td>\n",
       "      <td>0</td>\n",
       "    </tr>\n",
       "    <tr>\n",
       "      <th>18129</th>\n",
       "      <td>../input/utkface-new/UTKFace/51_0_0_2017011717...</td>\n",
       "      <td>50</td>\n",
       "    </tr>\n",
       "    <tr>\n",
       "      <th>16153</th>\n",
       "      <td>../input/utkface-new/UTKFace/4_1_3_20161219230...</td>\n",
       "      <td>3</td>\n",
       "    </tr>\n",
       "  </tbody>\n",
       "</table>\n",
       "</div>"
      ],
      "text/plain": [
       "                                                    Name  Age\n",
       "17222  ../input/utkface-new/UTKFace/1_1_0_20161219204...    0\n",
       "18129  ../input/utkface-new/UTKFace/51_0_0_2017011717...   50\n",
       "16153  ../input/utkface-new/UTKFace/4_1_3_20161219230...    3"
      ]
     },
     "execution_count": 6,
     "metadata": {},
     "output_type": "execute_result"
    }
   ],
   "source": [
    "df_data = df_train.Name\n",
    "y_data = df_train.Age\n",
    "y2_data = df.Gender\n",
    "X_train, X_val, y_train, y_val = train_test_split(df_data, y_data, test_size=0.1, random_state=42)\n",
    "d = {'Name':X_train,'Age':y_train}\n",
    "train = pd.concat(d,axis=1)\n",
    "train.head(3)"
   ]
  },
  {
   "cell_type": "code",
   "execution_count": 7,
   "id": "ceramic-ethernet",
   "metadata": {
    "execution": {
     "iopub.execute_input": "2021-05-15T17:06:27.821948Z",
     "iopub.status.busy": "2021-05-15T17:06:27.821216Z",
     "iopub.status.idle": "2021-05-15T17:06:27.824901Z",
     "shell.execute_reply": "2021-05-15T17:06:27.825501Z"
    },
    "papermill": {
     "duration": 0.028709,
     "end_time": "2021-05-15T17:06:27.825690",
     "exception": false,
     "start_time": "2021-05-15T17:06:27.796981",
     "status": "completed"
    },
    "tags": []
   },
   "outputs": [
    {
     "name": "stdout",
     "output_type": "stream",
     "text": [
      "                                                    Name  Age\n",
      "8214   ../input/utkface-new/UTKFace/58_0_0_2017011119...   57\n",
      "15208  ../input/utkface-new/UTKFace/1_0_3_20161220142...    0\n",
      "18596  ../input/utkface-new/UTKFace/51_0_1_2017011716...   50\n",
      "                                                    Name  Age\n",
      "5730   ../input/utkface-new/UTKFace/28_0_3_2017011621...   27\n",
      "10893  ../input/utkface-new/UTKFace/49_1_0_2017010420...   48\n",
      "4617   ../input/utkface-new/UTKFace/24_0_1_2017011313...   23\n"
     ]
    }
   ],
   "source": [
    "d = {'Name':X_val,'Age':y_val}\n",
    "val = pd.concat(d,axis=1)\n",
    "print(val.head(3))\n",
    "###################\n",
    "d = {'Name':X_test,'Age':y_test}\n",
    "df_test = pd.concat(d,axis=1)\n",
    "print(df_test.head(3))"
   ]
  },
  {
   "cell_type": "code",
   "execution_count": 8,
   "id": "clinical-career",
   "metadata": {
    "execution": {
     "iopub.execute_input": "2021-05-15T17:06:27.886759Z",
     "iopub.status.busy": "2021-05-15T17:06:27.885088Z",
     "iopub.status.idle": "2021-05-15T17:06:27.887594Z",
     "shell.execute_reply": "2021-05-15T17:06:27.887999Z"
    },
    "papermill": {
     "duration": 0.04772,
     "end_time": "2021-05-15T17:06:27.888143",
     "exception": false,
     "start_time": "2021-05-15T17:06:27.840423",
     "status": "completed"
    },
    "tags": []
   },
   "outputs": [],
   "source": [
    "train['Age'] = train['Age'].astype('str')\n",
    "df_test['Age'] = df_test['Age'].astype('str')\n",
    "val['Age'] = val['Age'].astype('str')"
   ]
  },
  {
   "cell_type": "code",
   "execution_count": 9,
   "id": "provincial-couple",
   "metadata": {
    "execution": {
     "iopub.execute_input": "2021-05-15T17:06:27.922348Z",
     "iopub.status.busy": "2021-05-15T17:06:27.921571Z",
     "iopub.status.idle": "2021-05-15T17:06:27.932148Z",
     "shell.execute_reply": "2021-05-15T17:06:27.931512Z"
    },
    "papermill": {
     "duration": 0.030232,
     "end_time": "2021-05-15T17:06:27.932311",
     "exception": false,
     "start_time": "2021-05-15T17:06:27.902079",
     "status": "completed"
    },
    "tags": []
   },
   "outputs": [
    {
     "name": "stdout",
     "output_type": "stream",
     "text": [
      "90 \n",
      " 8214     57\n",
      "15208     0\n",
      "18596    50\n",
      "9997     53\n",
      "15876    57\n",
      "         ..\n",
      "7281     24\n",
      "14461     2\n",
      "885      44\n",
      "1729     21\n",
      "15754    59\n",
      "Name: Age, Length: 1890, dtype: object\n",
      "17004\n"
     ]
    },
    {
     "data": {
      "text/plain": [
       "453"
      ]
     },
     "execution_count": 9,
     "metadata": {},
     "output_type": "execute_result"
    }
   ],
   "source": [
    "print(len(train['Age'].unique()),\"\\n\", val['Age'])\n",
    "print(len(train))\n",
    "len(df[df['Age']>=80])"
   ]
  },
  {
   "cell_type": "code",
   "execution_count": 10,
   "id": "moral-norman",
   "metadata": {
    "execution": {
     "iopub.execute_input": "2021-05-15T17:06:27.970503Z",
     "iopub.status.busy": "2021-05-15T17:06:27.969735Z",
     "iopub.status.idle": "2021-05-15T17:07:17.319206Z",
     "shell.execute_reply": "2021-05-15T17:07:17.319644Z"
    },
    "papermill": {
     "duration": 49.37282,
     "end_time": "2021-05-15T17:07:17.319813",
     "exception": false,
     "start_time": "2021-05-15T17:06:27.946993",
     "status": "completed"
    },
    "tags": []
   },
   "outputs": [
    {
     "name": "stdout",
     "output_type": "stream",
     "text": [
      "Found 17004 validated image filenames belonging to 90 classes.\n",
      "Found 4724 validated image filenames belonging to 90 classes.\n",
      "Found 1890 validated image filenames belonging to 89 classes.\n"
     ]
    }
   ],
   "source": [
    "batch = 512\n",
    "train_gen = ImageDataGenerator(rescale=1./255)\n",
    "test_gen = ImageDataGenerator(rescale=1./255)\n",
    "train_data = train_gen.flow_from_dataframe(dataframe = train, \n",
    "                                           #directory = train_folder, \n",
    "                                           x_col = 'Name',\n",
    "                                           y_col = 'Age', seed = 42,\n",
    "                                           batch_size = batch,\n",
    "                                           shuffle = True, \n",
    "                                           class_mode=\"sparse\",\n",
    "                                           target_size = (224, 224))\n",
    "\n",
    "test_data = test_gen.flow_from_dataframe(dataframe = df_test,\n",
    "                                         #directory = test_folder,\n",
    "                                         x_col = 'Name',\n",
    "                                         y_col = 'Age',\n",
    "                                         batch_size = batch,\n",
    "                                         shuffle = True,\n",
    "                                         class_mode='sparse',\n",
    "                                         target_size = (224, 224))\n",
    "\n",
    "val_data = train_gen.flow_from_dataframe(dataframe = val, \n",
    "                                           #directory = train_folder, \n",
    "                                           x_col = 'Name',\n",
    "                                           y_col = 'Age', seed = 42,\n",
    "                                           batch_size = batch,\n",
    "                                           shuffle = True, \n",
    "                                           class_mode=\"sparse\",\n",
    "                                           target_size = (224, 224))"
   ]
  },
  {
   "cell_type": "code",
   "execution_count": 11,
   "id": "danish-accent",
   "metadata": {
    "execution": {
     "iopub.execute_input": "2021-05-15T17:07:17.369068Z",
     "iopub.status.busy": "2021-05-15T17:07:17.368506Z",
     "iopub.status.idle": "2021-05-15T17:07:25.831862Z",
     "shell.execute_reply": "2021-05-15T17:07:25.830844Z"
    },
    "papermill": {
     "duration": 8.496176,
     "end_time": "2021-05-15T17:07:25.831997",
     "exception": false,
     "start_time": "2021-05-15T17:07:17.335821",
     "status": "completed"
    },
    "tags": []
   },
   "outputs": [],
   "source": [
    "model = Sequential()\n",
    "model.add(ZeroPadding2D((1,1),input_shape=(224,224, 3)))\n",
    "model.add(Convolution2D(64, (3, 3), activation='relu'))\n",
    "model.add(ZeroPadding2D((1,1)))\n",
    "model.add(Convolution2D(64, (3, 3), activation='relu'))\n",
    "model.add(MaxPooling2D((2,2), strides=(2,2)))\n",
    " \n",
    "model.add(ZeroPadding2D((1,1)))\n",
    "model.add(Convolution2D(128, (3, 3), activation='relu'))\n",
    "model.add(ZeroPadding2D((1,1)))\n",
    "model.add(Convolution2D(128, (3, 3), activation='relu'))\n",
    "model.add(MaxPooling2D((2,2), strides=(2,2)))\n",
    " \n",
    "model.add(ZeroPadding2D((1,1)))\n",
    "model.add(Convolution2D(256, (3, 3), activation='relu'))\n",
    "model.add(ZeroPadding2D((1,1)))\n",
    "model.add(Convolution2D(256, (3, 3), activation='relu'))\n",
    "model.add(ZeroPadding2D((1,1)))\n",
    "model.add(Convolution2D(256, (3, 3), activation='relu'))\n",
    "model.add(MaxPooling2D((2,2), strides=(2,2)))\n",
    " \n",
    "model.add(ZeroPadding2D((1,1)))\n",
    "model.add(Convolution2D(512, (3, 3), activation='relu'))\n",
    "model.add(ZeroPadding2D((1,1)))\n",
    "model.add(Convolution2D(512, (3, 3), activation='relu'))\n",
    "model.add(ZeroPadding2D((1,1)))\n",
    "model.add(Convolution2D(512, (3, 3), activation='relu'))\n",
    "model.add(MaxPooling2D((2,2), strides=(2,2)))\n",
    " \n",
    "model.add(ZeroPadding2D((1,1)))\n",
    "model.add(Convolution2D(512, (3, 3), activation='relu'))\n",
    "model.add(ZeroPadding2D((1,1)))\n",
    "model.add(Convolution2D(512, (3, 3), activation='relu'))\n",
    "model.add(ZeroPadding2D((1,1)))\n",
    "model.add(Convolution2D(512, (3, 3), activation='relu'))\n",
    "model.add(MaxPooling2D((2,2), strides=(2,2)))\n",
    " \n",
    "model.add(Convolution2D(4096, (7, 7), activation='relu'))\n",
    "model.add(Dropout(0.5))\n",
    "model.add(Convolution2D(4096, (1, 1), activation='relu'))\n",
    "model.add(Dropout(0.5))\n",
    "model.add(Convolution2D(2622, (1, 1)))\n",
    "model.add(Flatten())\n",
    "model.add(Activation('softmax'))\n",
    "\n",
    "model.load_weights('../input/vggfaceweights/vgg_face_weights.h5')"
   ]
  },
  {
   "cell_type": "code",
   "execution_count": 12,
   "id": "superb-elevation",
   "metadata": {
    "execution": {
     "iopub.execute_input": "2021-05-15T17:07:25.869770Z",
     "iopub.status.busy": "2021-05-15T17:07:25.869054Z",
     "iopub.status.idle": "2021-05-15T17:07:25.872402Z",
     "shell.execute_reply": "2021-05-15T17:07:25.872812Z"
    },
    "papermill": {
     "duration": 0.024905,
     "end_time": "2021-05-15T17:07:25.872943",
     "exception": false,
     "start_time": "2021-05-15T17:07:25.848038",
     "status": "completed"
    },
    "tags": []
   },
   "outputs": [
    {
     "data": {
      "text/plain": [
       "(None, 2622)"
      ]
     },
     "execution_count": 12,
     "metadata": {},
     "output_type": "execute_result"
    }
   ],
   "source": [
    "model_selection = 0\n",
    "model.output_shape"
   ]
  },
  {
   "cell_type": "code",
   "execution_count": 13,
   "id": "broke-glucose",
   "metadata": {
    "execution": {
     "iopub.execute_input": "2021-05-15T17:07:25.912787Z",
     "iopub.status.busy": "2021-05-15T17:07:25.912052Z",
     "iopub.status.idle": "2021-05-15T17:07:25.945735Z",
     "shell.execute_reply": "2021-05-15T17:07:25.945087Z"
    },
    "papermill": {
     "duration": 0.057013,
     "end_time": "2021-05-15T17:07:25.945877",
     "exception": false,
     "start_time": "2021-05-15T17:07:25.888864",
     "status": "completed"
    },
    "tags": []
   },
   "outputs": [],
   "source": [
    "model.add(Dense(256, activation='relu'))\n",
    "model.add(Dense(num_classes))\n",
    "\n",
    "model.add(Activation('softmax'))\n",
    "\n",
    "for layer in model.layers[:-6]:\n",
    "    layer.trainable = False\n",
    "\n",
    "model.compile(\n",
    "  optimizer='adam',\n",
    "  loss = tf.losses.SparseCategoricalCrossentropy(from_logits=True),\n",
    "  metrics=['accuracy'])\n",
    "callback = tf.keras.callbacks.EarlyStopping(monitor='val_accuracy', patience=4)"
   ]
  },
  {
   "cell_type": "code",
   "execution_count": 14,
   "id": "curious-sequence",
   "metadata": {
    "execution": {
     "iopub.execute_input": "2021-05-15T17:07:25.983540Z",
     "iopub.status.busy": "2021-05-15T17:07:25.982900Z",
     "iopub.status.idle": "2021-05-15T17:13:32.513024Z",
     "shell.execute_reply": "2021-05-15T17:13:32.512578Z"
    },
    "papermill": {
     "duration": 366.550541,
     "end_time": "2021-05-15T17:13:32.513158",
     "exception": false,
     "start_time": "2021-05-15T17:07:25.962617",
     "status": "completed"
    },
    "tags": []
   },
   "outputs": [
    {
     "name": "stdout",
     "output_type": "stream",
     "text": [
      "Epoch 1/10\n",
      "34/34 [==============================] - 138s 4s/step - loss: 4.4794 - accuracy: 0.0792 - val_loss: 4.3607 - val_accuracy: 0.0952\n",
      "Epoch 2/10\n",
      "34/34 [==============================] - 56s 2s/step - loss: 4.2962 - accuracy: 0.0939 - val_loss: 4.1153 - val_accuracy: 0.0952\n",
      "Epoch 3/10\n",
      "34/34 [==============================] - 56s 2s/step - loss: 4.0927 - accuracy: 0.0924 - val_loss: 4.0592 - val_accuracy: 0.0952\n",
      "Epoch 4/10\n",
      "34/34 [==============================] - 56s 2s/step - loss: 4.0435 - accuracy: 0.0930 - val_loss: 4.0564 - val_accuracy: 0.0952\n",
      "Epoch 5/10\n",
      "34/34 [==============================] - 57s 2s/step - loss: 4.0543 - accuracy: 0.0932 - val_loss: 4.0578 - val_accuracy: 0.0952\n"
     ]
    }
   ],
   "source": [
    "history = model.fit(\n",
    "    train_data,\n",
    "    validation_data=val_data,\n",
    "    epochs= 10,\n",
    "    callbacks = callback,\n",
    "    shuffle=False\n",
    ")\n",
    "eff_epochs = len(history.history['loss'])"
   ]
  },
  {
   "cell_type": "code",
   "execution_count": 15,
   "id": "improved-algorithm",
   "metadata": {
    "execution": {
     "iopub.execute_input": "2021-05-15T17:13:32.646698Z",
     "iopub.status.busy": "2021-05-15T17:13:32.641618Z",
     "iopub.status.idle": "2021-05-15T17:13:32.661129Z",
     "shell.execute_reply": "2021-05-15T17:13:32.660253Z"
    },
    "papermill": {
     "duration": 0.086027,
     "end_time": "2021-05-15T17:13:32.661252",
     "exception": false,
     "start_time": "2021-05-15T17:13:32.575225",
     "status": "completed"
    },
    "tags": []
   },
   "outputs": [
    {
     "name": "stdout",
     "output_type": "stream",
     "text": [
      "Model: \"sequential\"\n",
      "_________________________________________________________________\n",
      "Layer (type)                 Output Shape              Param #   \n",
      "=================================================================\n",
      "zero_padding2d (ZeroPadding2 (None, 226, 226, 3)       0         \n",
      "_________________________________________________________________\n",
      "conv2d (Conv2D)              (None, 224, 224, 64)      1792      \n",
      "_________________________________________________________________\n",
      "zero_padding2d_1 (ZeroPaddin (None, 226, 226, 64)      0         \n",
      "_________________________________________________________________\n",
      "conv2d_1 (Conv2D)            (None, 224, 224, 64)      36928     \n",
      "_________________________________________________________________\n",
      "max_pooling2d (MaxPooling2D) (None, 112, 112, 64)      0         \n",
      "_________________________________________________________________\n",
      "zero_padding2d_2 (ZeroPaddin (None, 114, 114, 64)      0         \n",
      "_________________________________________________________________\n",
      "conv2d_2 (Conv2D)            (None, 112, 112, 128)     73856     \n",
      "_________________________________________________________________\n",
      "zero_padding2d_3 (ZeroPaddin (None, 114, 114, 128)     0         \n",
      "_________________________________________________________________\n",
      "conv2d_3 (Conv2D)            (None, 112, 112, 128)     147584    \n",
      "_________________________________________________________________\n",
      "max_pooling2d_1 (MaxPooling2 (None, 56, 56, 128)       0         \n",
      "_________________________________________________________________\n",
      "zero_padding2d_4 (ZeroPaddin (None, 58, 58, 128)       0         \n",
      "_________________________________________________________________\n",
      "conv2d_4 (Conv2D)            (None, 56, 56, 256)       295168    \n",
      "_________________________________________________________________\n",
      "zero_padding2d_5 (ZeroPaddin (None, 58, 58, 256)       0         \n",
      "_________________________________________________________________\n",
      "conv2d_5 (Conv2D)            (None, 56, 56, 256)       590080    \n",
      "_________________________________________________________________\n",
      "zero_padding2d_6 (ZeroPaddin (None, 58, 58, 256)       0         \n",
      "_________________________________________________________________\n",
      "conv2d_6 (Conv2D)            (None, 56, 56, 256)       590080    \n",
      "_________________________________________________________________\n",
      "max_pooling2d_2 (MaxPooling2 (None, 28, 28, 256)       0         \n",
      "_________________________________________________________________\n",
      "zero_padding2d_7 (ZeroPaddin (None, 30, 30, 256)       0         \n",
      "_________________________________________________________________\n",
      "conv2d_7 (Conv2D)            (None, 28, 28, 512)       1180160   \n",
      "_________________________________________________________________\n",
      "zero_padding2d_8 (ZeroPaddin (None, 30, 30, 512)       0         \n",
      "_________________________________________________________________\n",
      "conv2d_8 (Conv2D)            (None, 28, 28, 512)       2359808   \n",
      "_________________________________________________________________\n",
      "zero_padding2d_9 (ZeroPaddin (None, 30, 30, 512)       0         \n",
      "_________________________________________________________________\n",
      "conv2d_9 (Conv2D)            (None, 28, 28, 512)       2359808   \n",
      "_________________________________________________________________\n",
      "max_pooling2d_3 (MaxPooling2 (None, 14, 14, 512)       0         \n",
      "_________________________________________________________________\n",
      "zero_padding2d_10 (ZeroPaddi (None, 16, 16, 512)       0         \n",
      "_________________________________________________________________\n",
      "conv2d_10 (Conv2D)           (None, 14, 14, 512)       2359808   \n",
      "_________________________________________________________________\n",
      "zero_padding2d_11 (ZeroPaddi (None, 16, 16, 512)       0         \n",
      "_________________________________________________________________\n",
      "conv2d_11 (Conv2D)           (None, 14, 14, 512)       2359808   \n",
      "_________________________________________________________________\n",
      "zero_padding2d_12 (ZeroPaddi (None, 16, 16, 512)       0         \n",
      "_________________________________________________________________\n",
      "conv2d_12 (Conv2D)           (None, 14, 14, 512)       2359808   \n",
      "_________________________________________________________________\n",
      "max_pooling2d_4 (MaxPooling2 (None, 7, 7, 512)         0         \n",
      "_________________________________________________________________\n",
      "conv2d_13 (Conv2D)           (None, 1, 1, 4096)        102764544 \n",
      "_________________________________________________________________\n",
      "dropout (Dropout)            (None, 1, 1, 4096)        0         \n",
      "_________________________________________________________________\n",
      "conv2d_14 (Conv2D)           (None, 1, 1, 4096)        16781312  \n",
      "_________________________________________________________________\n",
      "dropout_1 (Dropout)          (None, 1, 1, 4096)        0         \n",
      "_________________________________________________________________\n",
      "conv2d_15 (Conv2D)           (None, 1, 1, 2622)        10742334  \n",
      "_________________________________________________________________\n",
      "flatten (Flatten)            (None, 2622)              0         \n",
      "_________________________________________________________________\n",
      "activation (Activation)      (None, 2622)              0         \n",
      "_________________________________________________________________\n",
      "dense (Dense)                (None, 256)               671488    \n",
      "_________________________________________________________________\n",
      "dense_1 (Dense)              (None, 90)                23130     \n",
      "_________________________________________________________________\n",
      "activation_1 (Activation)    (None, 90)                0         \n",
      "=================================================================\n",
      "Total params: 145,697,496\n",
      "Trainable params: 11,436,952\n",
      "Non-trainable params: 134,260,544\n",
      "_________________________________________________________________\n"
     ]
    }
   ],
   "source": [
    "model.summary()"
   ]
  },
  {
   "cell_type": "code",
   "execution_count": 16,
   "id": "recorded-history",
   "metadata": {
    "execution": {
     "iopub.execute_input": "2021-05-15T17:13:32.788545Z",
     "iopub.status.busy": "2021-05-15T17:13:32.787877Z",
     "iopub.status.idle": "2021-05-15T17:14:07.901347Z",
     "shell.execute_reply": "2021-05-15T17:14:07.900397Z"
    },
    "papermill": {
     "duration": 35.17851,
     "end_time": "2021-05-15T17:14:07.901508",
     "exception": false,
     "start_time": "2021-05-15T17:13:32.722998",
     "status": "completed"
    },
    "tags": []
   },
   "outputs": [
    {
     "name": "stderr",
     "output_type": "stream",
     "text": [
      "/opt/conda/lib/python3.7/site-packages/tensorflow/python/keras/engine/sequential.py:450: UserWarning: `model.predict_classes()` is deprecated and will be removed after 2021-01-01. Please use instead:* `np.argmax(model.predict(x), axis=-1)`,   if your model does multi-class classification   (e.g. if it uses a `softmax` last-layer activation).* `(model.predict(x) > 0.5).astype(\"int32\")`,   if your model does binary classification   (e.g. if it uses a `sigmoid` last-layer activation).\n",
      "  warnings.warn('`model.predict_classes()` is deprecated and '\n"
     ]
    }
   ],
   "source": [
    "A = model.predict_classes(test_data)"
   ]
  },
  {
   "cell_type": "code",
   "execution_count": 17,
   "id": "faced-lyric",
   "metadata": {
    "execution": {
     "iopub.execute_input": "2021-05-15T17:14:08.033276Z",
     "iopub.status.busy": "2021-05-15T17:14:08.032364Z",
     "iopub.status.idle": "2021-05-15T17:14:08.157030Z",
     "shell.execute_reply": "2021-05-15T17:14:08.156480Z"
    },
    "papermill": {
     "duration": 0.193117,
     "end_time": "2021-05-15T17:14:08.157162",
     "exception": false,
     "start_time": "2021-05-15T17:14:07.964045",
     "status": "completed"
    },
    "tags": []
   },
   "outputs": [],
   "source": [
    "df_test['Predictions'] = A\n",
    "df_test.to_csv('Final')"
   ]
  },
  {
   "cell_type": "code",
   "execution_count": 18,
   "id": "secret-elevation",
   "metadata": {
    "execution": {
     "iopub.execute_input": "2021-05-15T17:14:08.298467Z",
     "iopub.status.busy": "2021-05-15T17:14:08.293356Z",
     "iopub.status.idle": "2021-05-15T17:14:09.645110Z",
     "shell.execute_reply": "2021-05-15T17:14:09.644315Z"
    },
    "papermill": {
     "duration": 1.422099,
     "end_time": "2021-05-15T17:14:09.645246",
     "exception": false,
     "start_time": "2021-05-15T17:14:08.223147",
     "status": "completed"
    },
    "tags": []
   },
   "outputs": [
    {
     "name": "stdout",
     "output_type": "stream",
     "text": [
      "MAE is  18.720152413209146\n"
     ]
    }
   ],
   "source": [
    "MAE = 0\n",
    "for i in range(len(df_test)):\n",
    "    MAE = MAE + abs(int(df_test.iloc[i]['Age']) - int(df_test.iloc[i]['Predictions']))\n",
    "print(\"MAE is \", MAE/len(df_test))"
   ]
  }
 ],
 "metadata": {
  "kernelspec": {
   "display_name": "Python 3",
   "language": "python",
   "name": "python3"
  },
  "language_info": {
   "codemirror_mode": {
    "name": "ipython",
    "version": 3
   },
   "file_extension": ".py",
   "mimetype": "text/x-python",
   "name": "python",
   "nbconvert_exporter": "python",
   "pygments_lexer": "ipython3",
   "version": "3.7.9"
  },
  "papermill": {
   "default_parameters": {},
   "duration": 474.4329,
   "end_time": "2021-05-15T17:14:11.220584",
   "environment_variables": {},
   "exception": null,
   "input_path": "__notebook__.ipynb",
   "output_path": "__notebook__.ipynb",
   "parameters": {},
   "start_time": "2021-05-15T17:06:16.787684",
   "version": "2.3.2"
  }
 },
 "nbformat": 4,
 "nbformat_minor": 5
}
