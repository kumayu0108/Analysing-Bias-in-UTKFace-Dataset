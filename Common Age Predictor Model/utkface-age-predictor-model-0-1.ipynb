{
 "cells": [
  {
   "cell_type": "code",
   "execution_count": 1,
   "id": "swiss-pakistan",
   "metadata": {
    "_cell_guid": "b1076dfc-b9ad-4769-8c92-a6c4dae69d19",
    "_uuid": "8f2839f25d086af736a60e9eeb907d3b93b6e0e5",
    "execution": {
     "iopub.execute_input": "2021-05-15T15:02:27.690355Z",
     "iopub.status.busy": "2021-05-15T15:02:27.689723Z",
     "iopub.status.idle": "2021-05-15T15:02:33.582993Z",
     "shell.execute_reply": "2021-05-15T15:02:33.581856Z"
    },
    "papermill": {
     "duration": 5.913781,
     "end_time": "2021-05-15T15:02:33.583152",
     "exception": false,
     "start_time": "2021-05-15T15:02:27.669371",
     "status": "completed"
    },
    "tags": []
   },
   "outputs": [],
   "source": [
    "import numpy as np\n",
    "import pandas as pd\n",
    "from datetime import datetime, timedelta\n",
    "import os\n",
    "from tqdm import tqdm\n",
    "\n",
    "import tensorflow as tf\n",
    "\n",
    "import keras\n",
    "from keras.preprocessing import image\n",
    "from tensorflow.keras.preprocessing.image import ImageDataGenerator\n",
    "from keras.callbacks import ModelCheckpoint,EarlyStopping\n",
    "from keras.layers import Dense, Activation, Dropout, Flatten, Input, Convolution2D, ZeroPadding2D, MaxPooling2D, Activation\n",
    "from keras.layers import Conv2D, AveragePooling2D\n",
    "from keras.models import Model, Sequential\n",
    "\n",
    "from sklearn.model_selection import train_test_split\n",
    "\n",
    "from keras import metrics\n",
    "\n",
    "from keras.models import model_from_json\n",
    "import matplotlib.pyplot as plt"
   ]
  },
  {
   "cell_type": "code",
   "execution_count": 2,
   "id": "retained-reduction",
   "metadata": {
    "execution": {
     "iopub.execute_input": "2021-05-15T15:02:33.621717Z",
     "iopub.status.busy": "2021-05-15T15:02:33.621206Z",
     "iopub.status.idle": "2021-05-15T15:02:33.737561Z",
     "shell.execute_reply": "2021-05-15T15:02:33.736907Z"
    },
    "papermill": {
     "duration": 0.141958,
     "end_time": "2021-05-15T15:02:33.737707",
     "exception": false,
     "start_time": "2021-05-15T15:02:33.595749",
     "status": "completed"
    },
    "tags": []
   },
   "outputs": [
    {
     "data": {
      "text/html": [
       "<div>\n",
       "<style scoped>\n",
       "    .dataframe tbody tr th:only-of-type {\n",
       "        vertical-align: middle;\n",
       "    }\n",
       "\n",
       "    .dataframe tbody tr th {\n",
       "        vertical-align: top;\n",
       "    }\n",
       "\n",
       "    .dataframe thead th {\n",
       "        text-align: right;\n",
       "    }\n",
       "</style>\n",
       "<table border=\"1\" class=\"dataframe\">\n",
       "  <thead>\n",
       "    <tr style=\"text-align: right;\">\n",
       "      <th></th>\n",
       "      <th>Age</th>\n",
       "      <th>Gender</th>\n",
       "      <th>Race</th>\n",
       "      <th>Name</th>\n",
       "    </tr>\n",
       "  </thead>\n",
       "  <tbody>\n",
       "    <tr>\n",
       "      <th>0</th>\n",
       "      <td>26</td>\n",
       "      <td>0</td>\n",
       "      <td>2</td>\n",
       "      <td>../input/utkface-new/UTKFace/26_0_2_2017010402...</td>\n",
       "    </tr>\n",
       "    <tr>\n",
       "      <th>1</th>\n",
       "      <td>22</td>\n",
       "      <td>1</td>\n",
       "      <td>1</td>\n",
       "      <td>../input/utkface-new/UTKFace/22_1_1_2017011223...</td>\n",
       "    </tr>\n",
       "    <tr>\n",
       "      <th>2</th>\n",
       "      <td>21</td>\n",
       "      <td>1</td>\n",
       "      <td>3</td>\n",
       "      <td>../input/utkface-new/UTKFace/21_1_3_2017010500...</td>\n",
       "    </tr>\n",
       "    <tr>\n",
       "      <th>3</th>\n",
       "      <td>28</td>\n",
       "      <td>0</td>\n",
       "      <td>0</td>\n",
       "      <td>../input/utkface-new/UTKFace/28_0_0_2017011718...</td>\n",
       "    </tr>\n",
       "    <tr>\n",
       "      <th>4</th>\n",
       "      <td>17</td>\n",
       "      <td>1</td>\n",
       "      <td>4</td>\n",
       "      <td>../input/utkface-new/UTKFace/17_1_4_2017010322...</td>\n",
       "    </tr>\n",
       "  </tbody>\n",
       "</table>\n",
       "</div>"
      ],
      "text/plain": [
       "   Age  Gender  Race                                               Name\n",
       "0   26       0     2  ../input/utkface-new/UTKFace/26_0_2_2017010402...\n",
       "1   22       1     1  ../input/utkface-new/UTKFace/22_1_1_2017011223...\n",
       "2   21       1     3  ../input/utkface-new/UTKFace/21_1_3_2017010500...\n",
       "3   28       0     0  ../input/utkface-new/UTKFace/28_0_0_2017011718...\n",
       "4   17       1     4  ../input/utkface-new/UTKFace/17_1_4_2017010322..."
      ]
     },
     "execution_count": 2,
     "metadata": {},
     "output_type": "execute_result"
    }
   ],
   "source": [
    "df = pd.read_csv('../input/utk-face-extracted-info/extracted_info.csv')\n",
    "df.dropna(inplace=True)\n",
    "df = df[df['Age'] <= 90]\n",
    "df = df[df['Age'] >= 0]\n",
    "df = df.reset_index()\n",
    "df = df.drop(columns = {'DateTime', 'Unnamed: 0', 'index'})\n",
    "df['Name'] = df['Name'].apply(lambda x: '../input/utkface-new/UTKFace/' + str(x))\n",
    "\n",
    "num_classes = len(df['Age'].unique())\n",
    "df.head()"
   ]
  },
  {
   "cell_type": "code",
   "execution_count": 3,
   "id": "burning-symphony",
   "metadata": {
    "execution": {
     "iopub.execute_input": "2021-05-15T15:02:33.766446Z",
     "iopub.status.busy": "2021-05-15T15:02:33.765886Z",
     "iopub.status.idle": "2021-05-15T15:02:34.119863Z",
     "shell.execute_reply": "2021-05-15T15:02:34.119398Z"
    },
    "papermill": {
     "duration": 0.369594,
     "end_time": "2021-05-15T15:02:34.119992",
     "exception": false,
     "start_time": "2021-05-15T15:02:33.750398",
     "status": "completed"
    },
    "tags": []
   },
   "outputs": [
    {
     "name": "stderr",
     "output_type": "stream",
     "text": [
      "/opt/conda/lib/python3.7/site-packages/pandas/plotting/_matplotlib/tools.py:331: MatplotlibDeprecationWarning: \n",
      "The is_first_col function was deprecated in Matplotlib 3.4 and will be removed two minor releases later. Use ax.get_subplotspec().is_first_col() instead.\n",
      "  if ax.is_first_col():\n"
     ]
    },
    {
     "data": {
      "text/plain": [
       "array([[<AxesSubplot:title={'center':'Age'}>,\n",
       "        <AxesSubplot:title={'center':'Gender'}>],\n",
       "       [<AxesSubplot:title={'center':'Race'}>, <AxesSubplot:>]],\n",
       "      dtype=object)"
      ]
     },
     "execution_count": 3,
     "metadata": {},
     "output_type": "execute_result"
    },
    {
     "data": {
      "image/png": "[encoded data removed]",
      "text/plain": [
       "<Figure size 432x288 with 4 Axes>"
      ]
     },
     "metadata": {
      "needs_background": "light"
     },
     "output_type": "display_data"
    }
   ],
   "source": [
    "df.hist()"
   ]
  },
  {
   "cell_type": "code",
   "execution_count": 4,
   "id": "random-graph",
   "metadata": {
    "execution": {
     "iopub.execute_input": "2021-05-15T15:02:34.152178Z",
     "iopub.status.busy": "2021-05-15T15:02:34.151630Z",
     "iopub.status.idle": "2021-05-15T15:02:34.155434Z",
     "shell.execute_reply": "2021-05-15T15:02:34.154956Z"
    },
    "papermill": {
     "duration": 0.022101,
     "end_time": "2021-05-15T15:02:34.155545",
     "exception": false,
     "start_time": "2021-05-15T15:02:34.133444",
     "status": "completed"
    },
    "tags": []
   },
   "outputs": [],
   "source": [
    "'''\n",
    "len(df[df['Age']>93]['Age']) ------- just 46 people\n",
    "classes = 101 #(0, 100])\n",
    "print(\"number of output classes: \",classes)\n",
    "'''\n",
    "\n",
    "df['Age'] = df['Age'] - 1"
   ]
  },
  {
   "cell_type": "code",
   "execution_count": 5,
   "id": "innovative-pharmaceutical",
   "metadata": {
    "execution": {
     "iopub.execute_input": "2021-05-15T15:02:34.189901Z",
     "iopub.status.busy": "2021-05-15T15:02:34.189265Z",
     "iopub.status.idle": "2021-05-15T15:02:34.200586Z",
     "shell.execute_reply": "2021-05-15T15:02:34.200187Z"
    },
    "papermill": {
     "duration": 0.031026,
     "end_time": "2021-05-15T15:02:34.200705",
     "exception": false,
     "start_time": "2021-05-15T15:02:34.169679",
     "status": "completed"
    },
    "tags": []
   },
   "outputs": [
    {
     "data": {
      "text/html": [
       "<div>\n",
       "<style scoped>\n",
       "    .dataframe tbody tr th:only-of-type {\n",
       "        vertical-align: middle;\n",
       "    }\n",
       "\n",
       "    .dataframe tbody tr th {\n",
       "        vertical-align: top;\n",
       "    }\n",
       "\n",
       "    .dataframe thead th {\n",
       "        text-align: right;\n",
       "    }\n",
       "</style>\n",
       "<table border=\"1\" class=\"dataframe\">\n",
       "  <thead>\n",
       "    <tr style=\"text-align: right;\">\n",
       "      <th></th>\n",
       "      <th>Name</th>\n",
       "      <th>Age</th>\n",
       "    </tr>\n",
       "  </thead>\n",
       "  <tbody>\n",
       "    <tr>\n",
       "      <th>2962</th>\n",
       "      <td>../input/utkface-new/UTKFace/15_1_2_2017011617...</td>\n",
       "      <td>14</td>\n",
       "    </tr>\n",
       "    <tr>\n",
       "      <th>15308</th>\n",
       "      <td>../input/utkface-new/UTKFace/1_0_2_20161219141...</td>\n",
       "      <td>0</td>\n",
       "    </tr>\n",
       "    <tr>\n",
       "      <th>5767</th>\n",
       "      <td>../input/utkface-new/UTKFace/40_0_2_2017011619...</td>\n",
       "      <td>39</td>\n",
       "    </tr>\n",
       "  </tbody>\n",
       "</table>\n",
       "</div>"
      ],
      "text/plain": [
       "                                                    Name  Age\n",
       "2962   ../input/utkface-new/UTKFace/15_1_2_2017011617...   14\n",
       "15308  ../input/utkface-new/UTKFace/1_0_2_20161219141...    0\n",
       "5767   ../input/utkface-new/UTKFace/40_0_2_2017011619...   39"
      ]
     },
     "execution_count": 5,
     "metadata": {},
     "output_type": "execute_result"
    }
   ],
   "source": [
    "df_data = df.Name\n",
    "y_data = df.Age\n",
    "y2_data = df.Gender\n",
    "X_train, X_test, y_train, y_test = train_test_split(df_data, y_data, test_size=0.20, random_state=40)\n",
    "d = {'Name':X_train,'Age':y_train}\n",
    "df_train = pd.concat(d,axis=1)\n",
    "df_train.head(3)"
   ]
  },
  {
   "cell_type": "code",
   "execution_count": 6,
   "id": "stable-uncertainty",
   "metadata": {
    "execution": {
     "iopub.execute_input": "2021-05-15T15:02:34.234676Z",
     "iopub.status.busy": "2021-05-15T15:02:34.233963Z",
     "iopub.status.idle": "2021-05-15T15:02:34.244523Z",
     "shell.execute_reply": "2021-05-15T15:02:34.244029Z"
    },
    "papermill": {
     "duration": 0.030116,
     "end_time": "2021-05-15T15:02:34.244622",
     "exception": false,
     "start_time": "2021-05-15T15:02:34.214506",
     "status": "completed"
    },
    "tags": []
   },
   "outputs": [
    {
     "data": {
      "text/html": [
       "<div>\n",
       "<style scoped>\n",
       "    .dataframe tbody tr th:only-of-type {\n",
       "        vertical-align: middle;\n",
       "    }\n",
       "\n",
       "    .dataframe tbody tr th {\n",
       "        vertical-align: top;\n",
       "    }\n",
       "\n",
       "    .dataframe thead th {\n",
       "        text-align: right;\n",
       "    }\n",
       "</style>\n",
       "<table border=\"1\" class=\"dataframe\">\n",
       "  <thead>\n",
       "    <tr style=\"text-align: right;\">\n",
       "      <th></th>\n",
       "      <th>Name</th>\n",
       "      <th>Age</th>\n",
       "    </tr>\n",
       "  </thead>\n",
       "  <tbody>\n",
       "    <tr>\n",
       "      <th>17222</th>\n",
       "      <td>../input/utkface-new/UTKFace/1_1_0_20161219204...</td>\n",
       "      <td>0</td>\n",
       "    </tr>\n",
       "    <tr>\n",
       "      <th>18129</th>\n",
       "      <td>../input/utkface-new/UTKFace/51_0_0_2017011717...</td>\n",
       "      <td>50</td>\n",
       "    </tr>\n",
       "    <tr>\n",
       "      <th>16153</th>\n",
       "      <td>../input/utkface-new/UTKFace/4_1_3_20161219230...</td>\n",
       "      <td>3</td>\n",
       "    </tr>\n",
       "  </tbody>\n",
       "</table>\n",
       "</div>"
      ],
      "text/plain": [
       "                                                    Name  Age\n",
       "17222  ../input/utkface-new/UTKFace/1_1_0_20161219204...    0\n",
       "18129  ../input/utkface-new/UTKFace/51_0_0_2017011717...   50\n",
       "16153  ../input/utkface-new/UTKFace/4_1_3_20161219230...    3"
      ]
     },
     "execution_count": 6,
     "metadata": {},
     "output_type": "execute_result"
    }
   ],
   "source": [
    "df_data = df_train.Name\n",
    "y_data = df_train.Age\n",
    "y2_data = df.Gender\n",
    "X_train, X_val, y_train, y_val = train_test_split(df_data, y_data, test_size=0.1, random_state=42)\n",
    "d = {'Name':X_train,'Age':y_train}\n",
    "train = pd.concat(d,axis=1)\n",
    "train.head(3)"
   ]
  },
  {
   "cell_type": "code",
   "execution_count": 7,
   "id": "deadly-factory",
   "metadata": {
    "execution": {
     "iopub.execute_input": "2021-05-15T15:02:34.285414Z",
     "iopub.status.busy": "2021-05-15T15:02:34.284743Z",
     "iopub.status.idle": "2021-05-15T15:02:34.288743Z",
     "shell.execute_reply": "2021-05-15T15:02:34.288322Z"
    },
    "papermill": {
     "duration": 0.028287,
     "end_time": "2021-05-15T15:02:34.288841",
     "exception": false,
     "start_time": "2021-05-15T15:02:34.260554",
     "status": "completed"
    },
    "tags": []
   },
   "outputs": [
    {
     "name": "stdout",
     "output_type": "stream",
     "text": [
      "                                                    Name  Age\n",
      "8214   ../input/utkface-new/UTKFace/58_0_0_2017011119...   57\n",
      "15208  ../input/utkface-new/UTKFace/1_0_3_20161220142...    0\n",
      "18596  ../input/utkface-new/UTKFace/51_0_1_2017011716...   50\n",
      "                                                    Name  Age\n",
      "5730   ../input/utkface-new/UTKFace/28_0_3_2017011621...   27\n",
      "10893  ../input/utkface-new/UTKFace/49_1_0_2017010420...   48\n",
      "4617   ../input/utkface-new/UTKFace/24_0_1_2017011313...   23\n"
     ]
    }
   ],
   "source": [
    "d = {'Name':X_val,'Age':y_val}\n",
    "val = pd.concat(d,axis=1)\n",
    "print(val.head(3))\n",
    "###################\n",
    "d = {'Name':X_test,'Age':y_test}\n",
    "df_test = pd.concat(d,axis=1)\n",
    "print(df_test.head(3))"
   ]
  },
  {
   "cell_type": "code",
   "execution_count": 8,
   "id": "resident-enough",
   "metadata": {
    "execution": {
     "iopub.execute_input": "2021-05-15T15:02:34.350099Z",
     "iopub.status.busy": "2021-05-15T15:02:34.349562Z",
     "iopub.status.idle": "2021-05-15T15:02:34.353504Z",
     "shell.execute_reply": "2021-05-15T15:02:34.353078Z"
    },
    "papermill": {
     "duration": 0.049904,
     "end_time": "2021-05-15T15:02:34.353603",
     "exception": false,
     "start_time": "2021-05-15T15:02:34.303699",
     "status": "completed"
    },
    "tags": []
   },
   "outputs": [],
   "source": [
    "train['Age'] = train['Age'].astype('str')\n",
    "df_test['Age'] = df_test['Age'].astype('str')\n",
    "val['Age'] = val['Age'].astype('str')"
   ]
  },
  {
   "cell_type": "code",
   "execution_count": 9,
   "id": "pleased-protein",
   "metadata": {
    "execution": {
     "iopub.execute_input": "2021-05-15T15:02:34.389215Z",
     "iopub.status.busy": "2021-05-15T15:02:34.388337Z",
     "iopub.status.idle": "2021-05-15T15:02:34.395729Z",
     "shell.execute_reply": "2021-05-15T15:02:34.396390Z"
    },
    "papermill": {
     "duration": 0.028014,
     "end_time": "2021-05-15T15:02:34.396572",
     "exception": false,
     "start_time": "2021-05-15T15:02:34.368558",
     "status": "completed"
    },
    "tags": []
   },
   "outputs": [
    {
     "name": "stdout",
     "output_type": "stream",
     "text": [
      "90 \n",
      " 8214     57\n",
      "15208     0\n",
      "18596    50\n",
      "9997     53\n",
      "15876    57\n",
      "         ..\n",
      "7281     24\n",
      "14461     2\n",
      "885      44\n",
      "1729     21\n",
      "15754    59\n",
      "Name: Age, Length: 1890, dtype: object\n",
      "17004\n",
      "453\n"
     ]
    }
   ],
   "source": [
    "print(len(train['Age'].unique()),\"\\n\", val['Age'])\n",
    "print(len(train))\n",
    "print(len(df[df['Age']>=80]))"
   ]
  },
  {
   "cell_type": "code",
   "execution_count": 10,
   "id": "prescribed-custom",
   "metadata": {
    "execution": {
     "iopub.execute_input": "2021-05-15T15:02:34.468000Z",
     "iopub.status.busy": "2021-05-15T15:02:34.462908Z",
     "iopub.status.idle": "2021-05-15T15:02:57.622254Z",
     "shell.execute_reply": "2021-05-15T15:02:57.622659Z"
    },
    "papermill": {
     "duration": 23.210418,
     "end_time": "2021-05-15T15:02:57.622851",
     "exception": false,
     "start_time": "2021-05-15T15:02:34.412433",
     "status": "completed"
    },
    "tags": []
   },
   "outputs": [
    {
     "name": "stdout",
     "output_type": "stream",
     "text": [
      "Found 17004 validated image filenames belonging to 90 classes.\n",
      "Found 4724 validated image filenames belonging to 90 classes.\n",
      "Found 1890 validated image filenames belonging to 89 classes.\n"
     ]
    }
   ],
   "source": [
    "batch = 512\n",
    "train_gen = ImageDataGenerator(rescale=1./255)\n",
    "test_gen = ImageDataGenerator(rescale=1./255)\n",
    "train_data = train_gen.flow_from_dataframe(dataframe = train, \n",
    "                                           #directory = train_folder, \n",
    "                                           x_col = 'Name',\n",
    "                                           y_col = 'Age', seed = 42,\n",
    "                                           batch_size = batch,\n",
    "                                           shuffle = True, \n",
    "                                           class_mode=\"sparse\",\n",
    "                                           target_size = (224, 224))\n",
    "\n",
    "test_data = test_gen.flow_from_dataframe(dataframe = df_test,\n",
    "                                         #directory = test_folder,\n",
    "                                         x_col = 'Name',\n",
    "                                         y_col = 'Age',\n",
    "                                         batch_size = batch,\n",
    "                                         shuffle = True,\n",
    "                                         class_mode='sparse',\n",
    "                                         target_size = (224, 224))\n",
    "\n",
    "val_data = train_gen.flow_from_dataframe(dataframe = val, \n",
    "                                           #directory = train_folder, \n",
    "                                           x_col = 'Name',\n",
    "                                           y_col = 'Age', seed = 42,\n",
    "                                           batch_size = batch,\n",
    "                                           shuffle = True, \n",
    "                                           class_mode=\"sparse\",\n",
    "                                           target_size = (224, 224))"
   ]
  },
  {
   "cell_type": "code",
   "execution_count": 11,
   "id": "enormous-bosnia",
   "metadata": {
    "execution": {
     "iopub.execute_input": "2021-05-15T15:02:57.664281Z",
     "iopub.status.busy": "2021-05-15T15:02:57.663493Z",
     "iopub.status.idle": "2021-05-15T15:03:07.231959Z",
     "shell.execute_reply": "2021-05-15T15:03:07.231404Z"
    },
    "papermill": {
     "duration": 9.592685,
     "end_time": "2021-05-15T15:03:07.232108",
     "exception": false,
     "start_time": "2021-05-15T15:02:57.639423",
     "status": "completed"
    },
    "tags": []
   },
   "outputs": [],
   "source": [
    "model = Sequential()\n",
    "model.add(ZeroPadding2D((1,1),input_shape=(224,224, 3)))\n",
    "model.add(Convolution2D(64, (3, 3), activation='relu'))\n",
    "model.add(ZeroPadding2D((1,1)))\n",
    "model.add(Convolution2D(64, (3, 3), activation='relu'))\n",
    "model.add(MaxPooling2D((2,2), strides=(2,2)))\n",
    " \n",
    "model.add(ZeroPadding2D((1,1)))\n",
    "model.add(Convolution2D(128, (3, 3), activation='relu'))\n",
    "model.add(ZeroPadding2D((1,1)))\n",
    "model.add(Convolution2D(128, (3, 3), activation='relu'))\n",
    "model.add(MaxPooling2D((2,2), strides=(2,2)))\n",
    " \n",
    "model.add(ZeroPadding2D((1,1)))\n",
    "model.add(Convolution2D(256, (3, 3), activation='relu'))\n",
    "model.add(ZeroPadding2D((1,1)))\n",
    "model.add(Convolution2D(256, (3, 3), activation='relu'))\n",
    "model.add(ZeroPadding2D((1,1)))\n",
    "model.add(Convolution2D(256, (3, 3), activation='relu'))\n",
    "model.add(MaxPooling2D((2,2), strides=(2,2)))\n",
    " \n",
    "model.add(ZeroPadding2D((1,1)))\n",
    "model.add(Convolution2D(512, (3, 3), activation='relu'))\n",
    "model.add(ZeroPadding2D((1,1)))\n",
    "model.add(Convolution2D(512, (3, 3), activation='relu'))\n",
    "model.add(ZeroPadding2D((1,1)))\n",
    "model.add(Convolution2D(512, (3, 3), activation='relu'))\n",
    "model.add(MaxPooling2D((2,2), strides=(2,2)))\n",
    " \n",
    "model.add(ZeroPadding2D((1,1)))\n",
    "model.add(Convolution2D(512, (3, 3), activation='relu'))\n",
    "model.add(ZeroPadding2D((1,1)))\n",
    "model.add(Convolution2D(512, (3, 3), activation='relu'))\n",
    "model.add(ZeroPadding2D((1,1)))\n",
    "model.add(Convolution2D(512, (3, 3), activation='relu'))\n",
    "model.add(MaxPooling2D((2,2), strides=(2,2)))\n",
    " \n",
    "model.add(Convolution2D(4096, (7, 7), activation='relu'))\n",
    "model.add(Dropout(0.5))\n",
    "model.add(Convolution2D(4096, (1, 1), activation='relu'))\n",
    "model.add(Dropout(0.5))\n",
    "model.add(Convolution2D(2622, (1, 1)))\n",
    "model.add(Flatten())\n",
    "model.add(Activation('softmax'))\n",
    "\n",
    "model.load_weights('../input/vggfaceweights/vgg_face_weights.h5')"
   ]
  },
  {
   "cell_type": "code",
   "execution_count": 12,
   "id": "handled-wilderness",
   "metadata": {
    "execution": {
     "iopub.execute_input": "2021-05-15T15:03:07.271750Z",
     "iopub.status.busy": "2021-05-15T15:03:07.270441Z",
     "iopub.status.idle": "2021-05-15T15:03:07.273606Z",
     "shell.execute_reply": "2021-05-15T15:03:07.274015Z"
    },
    "papermill": {
     "duration": 0.024677,
     "end_time": "2021-05-15T15:03:07.274135",
     "exception": false,
     "start_time": "2021-05-15T15:03:07.249458",
     "status": "completed"
    },
    "tags": []
   },
   "outputs": [
    {
     "data": {
      "text/plain": [
       "(None, 2622)"
      ]
     },
     "execution_count": 12,
     "metadata": {},
     "output_type": "execute_result"
    }
   ],
   "source": [
    "model.output_shape"
   ]
  },
  {
   "cell_type": "code",
   "execution_count": 13,
   "id": "overall-airline",
   "metadata": {
    "execution": {
     "iopub.execute_input": "2021-05-15T15:03:07.312429Z",
     "iopub.status.busy": "2021-05-15T15:03:07.311958Z",
     "iopub.status.idle": "2021-05-15T15:03:07.328009Z",
     "shell.execute_reply": "2021-05-15T15:03:07.327277Z"
    },
    "papermill": {
     "duration": 0.037647,
     "end_time": "2021-05-15T15:03:07.328112",
     "exception": false,
     "start_time": "2021-05-15T15:03:07.290465",
     "status": "completed"
    },
    "tags": []
   },
   "outputs": [
    {
     "data": {
      "text/plain": [
       "<KerasTensor: shape=(None, 90) dtype=float32 (created by layer 'activation_1')>"
      ]
     },
     "execution_count": 13,
     "metadata": {},
     "output_type": "execute_result"
    }
   ],
   "source": [
    "base_model_output = Convolution2D(num_classes, (1, 1), name='predictions')(model.layers[-4].output)\n",
    "base_model_output = Flatten()(base_model_output)\n",
    "base_model_output = Activation('softmax')(base_model_output)\n",
    "\n",
    "base_model_output"
   ]
  },
  {
   "cell_type": "code",
   "execution_count": 14,
   "id": "crude-sperm",
   "metadata": {
    "execution": {
     "iopub.execute_input": "2021-05-15T15:03:07.369261Z",
     "iopub.status.busy": "2021-05-15T15:03:07.364742Z",
     "iopub.status.idle": "2021-05-15T15:03:07.385973Z",
     "shell.execute_reply": "2021-05-15T15:03:07.385565Z"
    },
    "papermill": {
     "duration": 0.041104,
     "end_time": "2021-05-15T15:03:07.386077",
     "exception": false,
     "start_time": "2021-05-15T15:03:07.344973",
     "status": "completed"
    },
    "tags": []
   },
   "outputs": [],
   "source": [
    "age_model = Model(inputs=model.input, outputs=base_model_output)\n",
    "age_model\n",
    "\n",
    "for layer in model.layers[:-6]:\n",
    "    layer.trainable = False\n",
    "\n",
    "age_model.compile(loss=tf.losses.SparseCategoricalCrossentropy(from_logits=True)\n",
    "                  , optimizer=keras.optimizers.Adam()\n",
    "                  , metrics=['accuracy']\n",
    "                 )\n",
    "checkpointer = ModelCheckpoint(\n",
    "    filepath='classification_age_model_utk.hdf5'\n",
    "    , monitor = \"val_loss\"\n",
    "    , verbose=1\n",
    "    , save_best_only=True\n",
    "    , mode = 'auto'\n",
    ")\n",
    "target = df['Age'].values\n",
    "target_classes = keras.utils.to_categorical(target, num_classes)\n",
    "callback = tf.keras.callbacks.EarlyStopping(monitor='val_accuracy', patience=3)"
   ]
  },
  {
   "cell_type": "code",
   "execution_count": 15,
   "id": "residential-wonder",
   "metadata": {
    "execution": {
     "iopub.execute_input": "2021-05-15T15:03:07.424279Z",
     "iopub.status.busy": "2021-05-15T15:03:07.423742Z",
     "iopub.status.idle": "2021-05-15T15:13:56.349465Z",
     "shell.execute_reply": "2021-05-15T15:13:56.349027Z"
    },
    "papermill": {
     "duration": 648.946284,
     "end_time": "2021-05-15T15:13:56.349591",
     "exception": false,
     "start_time": "2021-05-15T15:03:07.403307",
     "status": "completed"
    },
    "tags": []
   },
   "outputs": [
    {
     "name": "stdout",
     "output_type": "stream",
     "text": [
      "Epoch 1/10\n",
      "34/34 [==============================] - 115s 3s/step - loss: 3.9608 - accuracy: 0.1148 - val_loss: 3.2741 - val_accuracy: 0.1725\n",
      "\n",
      "Epoch 00001: val_loss improved from inf to 3.27412, saving model to classification_age_model_utk.hdf5\n",
      "Epoch 2/10\n",
      "34/34 [==============================] - 56s 2s/step - loss: 3.0652 - accuracy: 0.1837 - val_loss: 3.1921 - val_accuracy: 0.1709\n",
      "\n",
      "Epoch 00002: val_loss improved from 3.27412 to 3.19211, saving model to classification_age_model_utk.hdf5\n",
      "Epoch 3/10\n",
      "34/34 [==============================] - 57s 2s/step - loss: 2.8979 - accuracy: 0.2043 - val_loss: 3.1759 - val_accuracy: 0.1783\n",
      "\n",
      "Epoch 00003: val_loss improved from 3.19211 to 3.17593, saving model to classification_age_model_utk.hdf5\n",
      "Epoch 4/10\n",
      "34/34 [==============================] - 57s 2s/step - loss: 2.8073 - accuracy: 0.2222 - val_loss: 3.1752 - val_accuracy: 0.1741\n",
      "\n",
      "Epoch 00004: val_loss improved from 3.17593 to 3.17517, saving model to classification_age_model_utk.hdf5\n",
      "Epoch 5/10\n",
      "34/34 [==============================] - 59s 2s/step - loss: 2.7418 - accuracy: 0.2352 - val_loss: 3.1739 - val_accuracy: 0.1820\n",
      "\n",
      "Epoch 00005: val_loss improved from 3.17517 to 3.17391, saving model to classification_age_model_utk.hdf5\n",
      "Epoch 6/10\n",
      "34/34 [==============================] - 65s 2s/step - loss: 2.6676 - accuracy: 0.2525 - val_loss: 3.1759 - val_accuracy: 0.1852\n",
      "\n",
      "Epoch 00006: val_loss did not improve from 3.17391\n",
      "Epoch 7/10\n",
      "34/34 [==============================] - 57s 2s/step - loss: 2.5769 - accuracy: 0.2752 - val_loss: 3.1857 - val_accuracy: 0.1820\n",
      "\n",
      "Epoch 00007: val_loss did not improve from 3.17391\n",
      "Epoch 8/10\n",
      "34/34 [==============================] - 57s 2s/step - loss: 2.5166 - accuracy: 0.2878 - val_loss: 3.1947 - val_accuracy: 0.1772\n",
      "\n",
      "Epoch 00008: val_loss did not improve from 3.17391\n",
      "Epoch 9/10\n",
      "34/34 [==============================] - 58s 2s/step - loss: 2.4410 - accuracy: 0.3079 - val_loss: 3.2257 - val_accuracy: 0.1804\n",
      "\n",
      "Epoch 00009: val_loss did not improve from 3.17391\n",
      "Epoch 10/10\n",
      "34/34 [==============================] - 57s 2s/step - loss: 2.3710 - accuracy: 0.3280 - val_loss: 3.2275 - val_accuracy: 0.1804\n",
      "\n",
      "Epoch 00010: val_loss did not improve from 3.17391\n"
     ]
    }
   ],
   "source": [
    "history_2 = age_model.fit(\n",
    "    train_data,\n",
    "    validation_data=val_data,\n",
    "    epochs= 10,\n",
    "    callbacks = [checkpointer],\n",
    "    shuffle=False\n",
    ")\n",
    "eff_epochs_2 = len(history_2.history['loss'])"
   ]
  },
  {
   "cell_type": "code",
   "execution_count": 16,
   "id": "distinct-success",
   "metadata": {
    "execution": {
     "iopub.execute_input": "2021-05-15T15:13:56.576309Z",
     "iopub.status.busy": "2021-05-15T15:13:56.575443Z",
     "iopub.status.idle": "2021-05-15T15:13:56.593560Z",
     "shell.execute_reply": "2021-05-15T15:13:56.592680Z"
    },
    "papermill": {
     "duration": 0.136281,
     "end_time": "2021-05-15T15:13:56.593695",
     "exception": false,
     "start_time": "2021-05-15T15:13:56.457414",
     "status": "completed"
    },
    "tags": []
   },
   "outputs": [
    {
     "name": "stdout",
     "output_type": "stream",
     "text": [
      "Model: \"sequential\"\n",
      "_________________________________________________________________\n",
      "Layer (type)                 Output Shape              Param #   \n",
      "=================================================================\n",
      "zero_padding2d (ZeroPadding2 (None, 226, 226, 3)       0         \n",
      "_________________________________________________________________\n",
      "conv2d (Conv2D)              (None, 224, 224, 64)      1792      \n",
      "_________________________________________________________________\n",
      "zero_padding2d_1 (ZeroPaddin (None, 226, 226, 64)      0         \n",
      "_________________________________________________________________\n",
      "conv2d_1 (Conv2D)            (None, 224, 224, 64)      36928     \n",
      "_________________________________________________________________\n",
      "max_pooling2d (MaxPooling2D) (None, 112, 112, 64)      0         \n",
      "_________________________________________________________________\n",
      "zero_padding2d_2 (ZeroPaddin (None, 114, 114, 64)      0         \n",
      "_________________________________________________________________\n",
      "conv2d_2 (Conv2D)            (None, 112, 112, 128)     73856     \n",
      "_________________________________________________________________\n",
      "zero_padding2d_3 (ZeroPaddin (None, 114, 114, 128)     0         \n",
      "_________________________________________________________________\n",
      "conv2d_3 (Conv2D)            (None, 112, 112, 128)     147584    \n",
      "_________________________________________________________________\n",
      "max_pooling2d_1 (MaxPooling2 (None, 56, 56, 128)       0         \n",
      "_________________________________________________________________\n",
      "zero_padding2d_4 (ZeroPaddin (None, 58, 58, 128)       0         \n",
      "_________________________________________________________________\n",
      "conv2d_4 (Conv2D)            (None, 56, 56, 256)       295168    \n",
      "_________________________________________________________________\n",
      "zero_padding2d_5 (ZeroPaddin (None, 58, 58, 256)       0         \n",
      "_________________________________________________________________\n",
      "conv2d_5 (Conv2D)            (None, 56, 56, 256)       590080    \n",
      "_________________________________________________________________\n",
      "zero_padding2d_6 (ZeroPaddin (None, 58, 58, 256)       0         \n",
      "_________________________________________________________________\n",
      "conv2d_6 (Conv2D)            (None, 56, 56, 256)       590080    \n",
      "_________________________________________________________________\n",
      "max_pooling2d_2 (MaxPooling2 (None, 28, 28, 256)       0         \n",
      "_________________________________________________________________\n",
      "zero_padding2d_7 (ZeroPaddin (None, 30, 30, 256)       0         \n",
      "_________________________________________________________________\n",
      "conv2d_7 (Conv2D)            (None, 28, 28, 512)       1180160   \n",
      "_________________________________________________________________\n",
      "zero_padding2d_8 (ZeroPaddin (None, 30, 30, 512)       0         \n",
      "_________________________________________________________________\n",
      "conv2d_8 (Conv2D)            (None, 28, 28, 512)       2359808   \n",
      "_________________________________________________________________\n",
      "zero_padding2d_9 (ZeroPaddin (None, 30, 30, 512)       0         \n",
      "_________________________________________________________________\n",
      "conv2d_9 (Conv2D)            (None, 28, 28, 512)       2359808   \n",
      "_________________________________________________________________\n",
      "max_pooling2d_3 (MaxPooling2 (None, 14, 14, 512)       0         \n",
      "_________________________________________________________________\n",
      "zero_padding2d_10 (ZeroPaddi (None, 16, 16, 512)       0         \n",
      "_________________________________________________________________\n",
      "conv2d_10 (Conv2D)           (None, 14, 14, 512)       2359808   \n",
      "_________________________________________________________________\n",
      "zero_padding2d_11 (ZeroPaddi (None, 16, 16, 512)       0         \n",
      "_________________________________________________________________\n",
      "conv2d_11 (Conv2D)           (None, 14, 14, 512)       2359808   \n",
      "_________________________________________________________________\n",
      "zero_padding2d_12 (ZeroPaddi (None, 16, 16, 512)       0         \n",
      "_________________________________________________________________\n",
      "conv2d_12 (Conv2D)           (None, 14, 14, 512)       2359808   \n",
      "_________________________________________________________________\n",
      "max_pooling2d_4 (MaxPooling2 (None, 7, 7, 512)         0         \n",
      "_________________________________________________________________\n",
      "conv2d_13 (Conv2D)           (None, 1, 1, 4096)        102764544 \n",
      "_________________________________________________________________\n",
      "dropout (Dropout)            (None, 1, 1, 4096)        0         \n",
      "_________________________________________________________________\n",
      "conv2d_14 (Conv2D)           (None, 1, 1, 4096)        16781312  \n",
      "_________________________________________________________________\n",
      "dropout_1 (Dropout)          (None, 1, 1, 4096)        0         \n",
      "_________________________________________________________________\n",
      "conv2d_15 (Conv2D)           (None, 1, 1, 2622)        10742334  \n",
      "_________________________________________________________________\n",
      "flatten (Flatten)            (None, 2622)              0         \n",
      "_________________________________________________________________\n",
      "activation (Activation)      (None, 2622)              0         \n",
      "=================================================================\n",
      "Total params: 145,002,878\n",
      "Trainable params: 27,523,646\n",
      "Non-trainable params: 117,479,232\n",
      "_________________________________________________________________\n"
     ]
    }
   ],
   "source": [
    "model.summary()"
   ]
  },
  {
   "cell_type": "code",
   "execution_count": 17,
   "id": "soviet-sheriff",
   "metadata": {
    "execution": {
     "iopub.execute_input": "2021-05-15T15:13:56.815902Z",
     "iopub.status.busy": "2021-05-15T15:13:56.815377Z",
     "iopub.status.idle": "2021-05-15T15:14:27.730634Z",
     "shell.execute_reply": "2021-05-15T15:14:27.731111Z"
    },
    "papermill": {
     "duration": 31.027853,
     "end_time": "2021-05-15T15:14:27.731278",
     "exception": false,
     "start_time": "2021-05-15T15:13:56.703425",
     "status": "completed"
    },
    "tags": []
   },
   "outputs": [],
   "source": [
    "B = age_model.predict(test_data)\n",
    "output_indexes = np.array([i for i in range(0, num_classes)])\n",
    "apparent_predictions = np.sum(B * output_indexes, axis = 1)"
   ]
  },
  {
   "cell_type": "code",
   "execution_count": 18,
   "id": "rough-charger",
   "metadata": {
    "execution": {
     "iopub.execute_input": "2021-05-15T15:14:27.955635Z",
     "iopub.status.busy": "2021-05-15T15:14:27.952633Z",
     "iopub.status.idle": "2021-05-15T15:14:28.174414Z",
     "shell.execute_reply": "2021-05-15T15:14:28.175163Z"
    },
    "papermill": {
     "duration": 0.33621,
     "end_time": "2021-05-15T15:14:28.175380",
     "exception": false,
     "start_time": "2021-05-15T15:14:27.839170",
     "status": "completed"
    },
    "tags": []
   },
   "outputs": [],
   "source": [
    "df_test['Weighted_Avg'] = apparent_predictions\n",
    "argmax = []\n",
    "for p in B: \n",
    "    predm = np.argmax(p)\n",
    "    argmax.append(predm)\n",
    "df_test['ArgMax'] = argmax\n",
    "df_test.to_csv('Final__wtd_avg')"
   ]
  },
  {
   "cell_type": "code",
   "execution_count": 19,
   "id": "nervous-offset",
   "metadata": {
    "execution": {
     "iopub.execute_input": "2021-05-15T15:14:28.549849Z",
     "iopub.status.busy": "2021-05-15T15:14:28.548819Z",
     "iopub.status.idle": "2021-05-15T15:14:28.554263Z",
     "shell.execute_reply": "2021-05-15T15:14:28.553772Z"
    },
    "papermill": {
     "duration": 0.19988,
     "end_time": "2021-05-15T15:14:28.554415",
     "exception": false,
     "start_time": "2021-05-15T15:14:28.354535",
     "status": "completed"
    },
    "tags": []
   },
   "outputs": [
    {
     "data": {
      "text/html": [
       "<div>\n",
       "<style scoped>\n",
       "    .dataframe tbody tr th:only-of-type {\n",
       "        vertical-align: middle;\n",
       "    }\n",
       "\n",
       "    .dataframe tbody tr th {\n",
       "        vertical-align: top;\n",
       "    }\n",
       "\n",
       "    .dataframe thead th {\n",
       "        text-align: right;\n",
       "    }\n",
       "</style>\n",
       "<table border=\"1\" class=\"dataframe\">\n",
       "  <thead>\n",
       "    <tr style=\"text-align: right;\">\n",
       "      <th></th>\n",
       "      <th>Name</th>\n",
       "      <th>Age</th>\n",
       "      <th>Weighted_Avg</th>\n",
       "      <th>ArgMax</th>\n",
       "    </tr>\n",
       "  </thead>\n",
       "  <tbody>\n",
       "    <tr>\n",
       "      <th>5730</th>\n",
       "      <td>../input/utkface-new/UTKFace/28_0_3_2017011621...</td>\n",
       "      <td>27</td>\n",
       "      <td>28.496353</td>\n",
       "      <td>29</td>\n",
       "    </tr>\n",
       "    <tr>\n",
       "      <th>10893</th>\n",
       "      <td>../input/utkface-new/UTKFace/49_1_0_2017010420...</td>\n",
       "      <td>48</td>\n",
       "      <td>35.093004</td>\n",
       "      <td>41</td>\n",
       "    </tr>\n",
       "    <tr>\n",
       "      <th>4617</th>\n",
       "      <td>../input/utkface-new/UTKFace/24_0_1_2017011313...</td>\n",
       "      <td>23</td>\n",
       "      <td>13.830091</td>\n",
       "      <td>12</td>\n",
       "    </tr>\n",
       "    <tr>\n",
       "      <th>11134</th>\n",
       "      <td>../input/utkface-new/UTKFace/30_1_4_2017011720...</td>\n",
       "      <td>29</td>\n",
       "      <td>16.078680</td>\n",
       "      <td>23</td>\n",
       "    </tr>\n",
       "    <tr>\n",
       "      <th>8135</th>\n",
       "      <td>../input/utkface-new/UTKFace/48_1_0_2017010914...</td>\n",
       "      <td>47</td>\n",
       "      <td>27.261720</td>\n",
       "      <td>28</td>\n",
       "    </tr>\n",
       "    <tr>\n",
       "      <th>...</th>\n",
       "      <td>...</td>\n",
       "      <td>...</td>\n",
       "      <td>...</td>\n",
       "      <td>...</td>\n",
       "    </tr>\n",
       "    <tr>\n",
       "      <th>22751</th>\n",
       "      <td>../input/utkface-new/UTKFace/75_1_0_2017012022...</td>\n",
       "      <td>74</td>\n",
       "      <td>19.819918</td>\n",
       "      <td>23</td>\n",
       "    </tr>\n",
       "    <tr>\n",
       "      <th>23088</th>\n",
       "      <td>../input/utkface-new/UTKFace/25_0_0_2017010516...</td>\n",
       "      <td>24</td>\n",
       "      <td>28.469024</td>\n",
       "      <td>18</td>\n",
       "    </tr>\n",
       "    <tr>\n",
       "      <th>18217</th>\n",
       "      <td>../input/utkface-new/UTKFace/55_0_1_2017012013...</td>\n",
       "      <td>54</td>\n",
       "      <td>27.036605</td>\n",
       "      <td>27</td>\n",
       "    </tr>\n",
       "    <tr>\n",
       "      <th>3081</th>\n",
       "      <td>../input/utkface-new/UTKFace/1_0_2_20161219201...</td>\n",
       "      <td>0</td>\n",
       "      <td>47.884730</td>\n",
       "      <td>49</td>\n",
       "    </tr>\n",
       "    <tr>\n",
       "      <th>17936</th>\n",
       "      <td>../input/utkface-new/UTKFace/8_1_0_20170109204...</td>\n",
       "      <td>7</td>\n",
       "      <td>40.108653</td>\n",
       "      <td>41</td>\n",
       "    </tr>\n",
       "  </tbody>\n",
       "</table>\n",
       "<p>4724 rows × 4 columns</p>\n",
       "</div>"
      ],
      "text/plain": [
       "                                                    Name Age  Weighted_Avg  \\\n",
       "5730   ../input/utkface-new/UTKFace/28_0_3_2017011621...  27     28.496353   \n",
       "10893  ../input/utkface-new/UTKFace/49_1_0_2017010420...  48     35.093004   \n",
       "4617   ../input/utkface-new/UTKFace/24_0_1_2017011313...  23     13.830091   \n",
       "11134  ../input/utkface-new/UTKFace/30_1_4_2017011720...  29     16.078680   \n",
       "8135   ../input/utkface-new/UTKFace/48_1_0_2017010914...  47     27.261720   \n",
       "...                                                  ...  ..           ...   \n",
       "22751  ../input/utkface-new/UTKFace/75_1_0_2017012022...  74     19.819918   \n",
       "23088  ../input/utkface-new/UTKFace/25_0_0_2017010516...  24     28.469024   \n",
       "18217  ../input/utkface-new/UTKFace/55_0_1_2017012013...  54     27.036605   \n",
       "3081   ../input/utkface-new/UTKFace/1_0_2_20161219201...   0     47.884730   \n",
       "17936  ../input/utkface-new/UTKFace/8_1_0_20170109204...   7     40.108653   \n",
       "\n",
       "       ArgMax  \n",
       "5730       29  \n",
       "10893      41  \n",
       "4617       12  \n",
       "11134      23  \n",
       "8135       28  \n",
       "...       ...  \n",
       "22751      23  \n",
       "23088      18  \n",
       "18217      27  \n",
       "3081       49  \n",
       "17936      41  \n",
       "\n",
       "[4724 rows x 4 columns]"
      ]
     },
     "execution_count": 19,
     "metadata": {},
     "output_type": "execute_result"
    }
   ],
   "source": [
    "df_test"
   ]
  },
  {
   "cell_type": "code",
   "execution_count": 20,
   "id": "liberal-penny",
   "metadata": {
    "execution": {
     "iopub.execute_input": "2021-05-15T15:14:28.793736Z",
     "iopub.status.busy": "2021-05-15T15:14:28.792448Z",
     "iopub.status.idle": "2021-05-15T15:14:28.795651Z",
     "shell.execute_reply": "2021-05-15T15:14:28.795236Z"
    },
    "papermill": {
     "duration": 0.125945,
     "end_time": "2021-05-15T15:14:28.795774",
     "exception": false,
     "start_time": "2021-05-15T15:14:28.669829",
     "status": "completed"
    },
    "tags": []
   },
   "outputs": [
    {
     "name": "stdout",
     "output_type": "stream",
     "text": [
      "mae:  5.25190516511431\n",
      "instances:  4724\n"
     ]
    }
   ],
   "source": [
    "mae = 0\n",
    "\n",
    "for i in range(0 ,apparent_predictions.shape[0]):\n",
    "    prediction = int(apparent_predictions[i])\n",
    "#     actual = int(df_test.iloc[i]['Age'])\n",
    "    actual = int(argmax[i])\n",
    "    \n",
    "    abs_error = abs(prediction - actual)\n",
    "    \n",
    "    mae = mae + abs_error\n",
    "    \n",
    "mae = mae / apparent_predictions.shape[0]\n",
    "\n",
    "print(\"mae: \",mae)\n",
    "print(\"instances: \",apparent_predictions.shape[0])"
   ]
  }
 ],
 "metadata": {
  "kernelspec": {
   "display_name": "Python 3",
   "language": "python",
   "name": "python3"
  },
  "language_info": {
   "codemirror_mode": {
    "name": "ipython",
    "version": 3
   },
   "file_extension": ".py",
   "mimetype": "text/x-python",
   "name": "python",
   "nbconvert_exporter": "python",
   "pygments_lexer": "ipython3",
   "version": "3.7.9"
  },
  "papermill": {
   "default_parameters": {},
   "duration": 727.785751,
   "end_time": "2021-05-15T15:14:30.421828",
   "environment_variables": {},
   "exception": null,
   "input_path": "__notebook__.ipynb",
   "output_path": "__notebook__.ipynb",
   "parameters": {},
   "start_time": "2021-05-15T15:02:22.636077",
   "version": "2.3.2"
  }
 },
 "nbformat": 4,
 "nbformat_minor": 5
}
